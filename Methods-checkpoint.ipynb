{
 "cells": [
  {
   "cell_type": "markdown",
   "metadata": {},
   "source": [
    "# General Tips on BASH\n",
    "### Back Up\n",
    "- Every computer can fail\n",
    "- Files need to be back-uped. Back-up is more than a mere copy.\n",
    "- There are several type of back up\n",
    "    - Full : a copy of everything\n",
    "    - Incremental : 1. Full Back-up 2. Every new file is added. Changed files are duplicated. \n",
    "    - Differential: Only changes from the Full Back-up are saved. Slow.\n",
    "    \n",
    "In our case we want to back-up personal files and SERVER.\n",
    "Typically we are using UNIX server that we access through **Secure Shell - SSH**\n"
   ]
  },
  {
   "cell_type": "code",
   "execution_count": 2,
   "metadata": {},
   "outputs": [
    {
     "name": "stdout",
     "output_type": "stream",
     "text": [
      "ssh: Could not resolve hostname adress.of.the.server: Name or service not known\r\n"
     ]
    },
    {
     "ename": "",
     "evalue": "255",
     "output_type": "error",
     "traceback": []
    }
   ],
   "source": [
    "ssh user@adress.of.the.server"
   ]
  },
  {
   "cell_type": "markdown",
   "metadata": {},
   "source": [
    "# SSH\n",
    "- Public Key\n",
    "- Secure connection\n",
    "We will just investigate ONE TIP.\n",
    "In general the authentication goes through a password.\n",
    "    - Portable\n",
    "    - Unfeasable for automatic procedures\n",
    "The alternative is to use add YOUR COMPUTER to the list of authenticated machine on the server (and viceversa).\n",
    "A nice guide is available here: http://www.linuxproblem.org/art_9.html"
   ]
  },
  {
   "cell_type": "markdown",
   "metadata": {},
   "source": [
    "To authenticate a computer you need a public/private rsa key, basically a very complex password that can be stored on the two computers. "
   ]
  },
  {
   "cell_type": "code",
   "execution_count": 3,
   "metadata": {},
   "outputs": [
    {
     "name": "stdout",
     "output_type": "stream",
     "text": [
      "ssh-rsa AAAAB3NzaC1yc2EAAAADAQABAAABAQC6D5Bgvs05LTQETDMTSbkDVfl/P4Nw+moa5kt4lZwBbNt1Q2E4uCUy4TLK9g77ANuPLVCmvRUeVjR2Gt7iQKpRftiQBpnRxIgMzwE9v3HSm9U4dROFtSdKGJLQx6hVS1mmewa61fTutMv/cbS+raKnc+2Acxml2fKzATQDBZL1RzOwImNG/vkuI8QdzKjX7dIQ0vFj/Nh0oAJdoxSCsdDNsd5K5EPgfhKhEAzdeM0HtxihYW8InCUszb6y7LGRD0k4qFEemJwcB4bhm9VMvrzJe1/3H6ZKMPD09Vau7VGxVhEXRB9zc00vnyNJ0WQuz/sJ1ob9JzVhiB6ZLJlk31vB fex@fex-treddi\n"
     ]
    }
   ],
   "source": [
    "cat ~/.ssh/id_rsa.pub"
   ]
  },
  {
   "cell_type": "markdown",
   "metadata": {},
   "source": [
    "The above is my passfrase that I just attach to the list of server where i want to have an easier access. \n",
    "This is done with few easy processes:\n",
    "1. Generation of the password  from user *a* of computer *A* \n",
    "```\n",
    "a@A:~> ssh-keygen -t rsa\n",
    "Generating public/private rsa key pair.\n",
    "Enter file in which to save the key (/home/a/.ssh/id_rsa): \n",
    "Created directory '/home/a/.ssh'.\n",
    "Enter passphrase (empty for no passphrase): \n",
    "Enter same passphrase again: \n",
    "Your identification has been saved in /home/a/.ssh/id_rsa.\n",
    "Your public key has been saved in /home/a/.ssh/id_rsa.pub.\n",
    "The key fingerprint is:\n",
    "3e:4f:05:79:3a:9f:96:7c:3b:ad:e9:58:37:bc:37:e4 a@A\n",
    "```\n",
    "2. Copy of the details of user *a* of *A* (a@A) to computer *B* where user *b* wants to have access:\n",
    "```\n",
    "a@A:~> ssh b@B mkdir -p .ssh           # ssh -p allows to pass a command to the accessed computer, in this case user a@A creates as user b@B the folder .ssh in home   \n",
    "b@B's password:       \n",
    "a@A:~> cat .ssh/id_rsa.pub | ssh b@B 'cat >> .ssh/authorized_keys'         # Copy of the key\n",
    "b@B's password: \n",
    "a@A:~> ssh b@B                     # now you get free access to B as b with out writing the password. \n",
    "```\n",
    "\n",
    "Of course this is true ONLY for UNIX* systems. Best approach on Non-Unix (M$) is to install the new Unix shell on Windows machine.  "
   ]
  },
  {
   "cell_type": "markdown",
   "metadata": {},
   "source": [
    "Despite common use ssh command should *NEVER EVER BE ALIASED*. If once you setup a passkey you are too lazy to write\n",
    "```\n",
    "ssh user@server \n",
    "```\n",
    "you should not define in your ~/.bashrc\n",
    "```\n",
    "alias LoginForLazypeople='ssh user@server'\n",
    "```\n",
    "You should modify your .ssh/config file. How to do so, goes beyond this talk, here you are mine as an example:\n"
   ]
  },
  {
   "cell_type": "code",
   "execution_count": 5,
   "metadata": {},
   "outputs": [
    {
     "name": "stdout",
     "output_type": "stream",
     "text": [
      "# Global settings\n",
      "Host *\n",
      "    Protocol 2 \n",
      "# Protocol 1 well dodgy\n",
      "    Compression yes\n",
      "    ServerAliveCountMax 5  \n",
      "# Up to 5 pings with no reply before hang up\n",
      "    ServerAliveInterval 30 \n",
      "# Seconds. Needs to be <60s for some home routers\n",
      "\n",
      "# Enable Master Sessions - (for scp autocomplete + not hammering HPC facilities)\n",
      "# See: http://unix.stackexchange.com/questions/32984/multiple-ssh-sessions-in-single-command/33012#33012\n",
      "# To create a master: ssh -N -M target-host\n",
      "# To delete a dead one: ssh -O exit target-host\n",
      "ControlMaster auto\n",
      "ControlPath ~/.ssh/control:%h:%p:%r\n",
      "\n",
      " \n",
      "# These apply to any Bath host\n",
      "\n",
      "\n",
      "#Host ldarwin\n",
      "#\tUser fb462\n",
      "#\tHostName login.hpc.cam.ac.uk \n",
      "\n",
      "Host *.bath.ac.uk\n",
      "\tUser fb318\n",
      "#    PreferredAuthentications publickey\n",
      "#    IdentityFile /home/jarvist/.ssh/bath_rsa\n",
      "\n",
      "# These settings are specific to LCPU\n",
      "Host lcpu\n",
      "\tUser fb318\n",
      "\tHostName lcpu.bath.ac.uk\n",
      "#    PreferredAuthentications publickey\n",
      "#    IdentityFile /home/fex/.ssh/id_rsa\n",
      " \n",
      "# These are specific to Aquila.  Note the use of ProxyCommand.\n",
      "Host aquila\n",
      "\tUser fb318\n",
      "\tHostName aquila.bath.ac.uk\n",
      "\tPreferredAuthentications publickey\n",
      "#    IdentityFile /home/fex/.ssh/bath_rsa\n",
      "#    ProxyCommand ssh lcpu nc %h %p\n",
      "\n",
      "\n",
      "\n",
      "#Host aquila-tunnel\n",
      "#    User fb318\n",
      "#    HostName aquila.bath.ac.uk\n",
      "#    PreferredAuthentications publickey\n",
      "#    ProxyCommand ssh lcpu nc %h %p\n",
      "\n",
      "#Host neon chsv-wmd\n",
      "#    User federico\n",
      "#    HostName chsv-wmd.bath.ac.uk \n",
      "\n",
      "#Host neon-tunnel\n",
      "#    User federico\n",
      "#    HostName chsv-wmd.bath.ac.uk \n",
      "#    ProxyCommand ssh lcpu nc %h %p\n",
      "\n",
      "#H#ost balena\n",
      "#\tUser fb318\n",
      "#\tHostname balena.bath.ac.uk\n",
      "\n",
      "#Host balena-tunnel\n",
      "#\tUser fb318\n",
      "#\tHostName balena.bath.ac.uk\n",
      "#\tPreferredAuthentications publickey\n",
      "#\tProxyCommand ssh lcpu nc %h %p\n",
      "\n",
      "\n",
      "\n",
      "\n",
      "#Host Jonaneon\n",
      "#    User jonathan\n",
      "#    HostName chsv-wmd.bath.ac.uk \n",
      "\n",
      "#Host Jonaneon-tunnel\n",
      "#    User jonathan\n",
      "#    HostName chsv-wmd.bath.ac.uk\n",
      "#    ProxyCommand ssh lcpu nc %h %p\n",
      "\n",
      "# Group machines for general account abuse.\n",
      "#Host chlorine tesla # Linux - :)\n",
      "#    User federico\n",
      "#    Hostname chmc-chlorine.bath.ac.uk\n",
      "\n",
      "#Host chlorine-tunnel tesla-tunnel # Linux?\n",
      "#    User federico\n",
      "#    Hostname chmc-chlorine.bath.ac.uk\n",
      "#    ProxyCommand ssh lcpu nc %h %p\n",
      "\n",
      "#Host aluminium slave # Headless (?) i7 iMac\n",
      "#    User compchem\n",
      "#    Hostname chpc-aw10.bath.ac.uk\n",
      "\n",
      "#Host scandium wmd-pv #2x6 core Xeon, 64GB mem\n",
      "#    User federico\n",
      "#    Hostname chpc-scandium.bath.ac.uk\n",
      "\n",
      "#Host scandium-tunnel wmd-pv-tunnel #2x6 core Xeon, 64GB mem\n",
      "#    User federico\n",
      "#    Hostname chpc-scandium.bath.ac.uk\n",
      "#    ProxyCommand ssh lcpu nc %h %p\n",
      "#\n",
      "#CAMBRIDGE\n",
      "# ssh -x fb462@login.hpc.cam.ac.uk\n",
      "#Host ldarwin\n",
      "#\tUser fb462\n",
      "#\tHostName login.hpc.cam.ac.uk\n",
      "#\n",
      "# National facilities\n",
      "#Host hector\n",
      "#    User federico\n",
      "#    HostName login.hector.ac.uk\n",
      "\n",
      "Host archer\n",
      "    User federico\n",
      "    HostName login.archer.ac.uk\n",
      "#\n",
      "#Host imac-tunnel # Linux?\n",
      "#    User fex\n",
      "#    Hostname chmc-aw9.bath.ac.uk\n",
      "#    ProxyCommand ssh lcpu nc %h %p\n",
      "#\n",
      "#Host ultrafox\n",
      "#    User pr1ukeet\n",
      "#    HostName login.archer.ac.uk\n",
      "\n",
      "#Host backup\n",
      "#\tUser federico\n",
      "#\tHostName login.rdf.ac.uk\n",
      "\n",
      "\n",
      "# Prgue Zeolite\n",
      "Host czeolite\n",
      "    User chen\n",
      "    HostName zeolite.natur.cuni.cz\n",
      "\n",
      "Host zeolite\n",
      "    User brivio\n",
      "    HostName zeolite.natur.cuni.cz\n",
      "\n",
      "Host NRGa\n",
      "    User admin\t\n",
      "    HostName 10.8.21.157\n",
      "\n",
      "\n",
      "Host hazel\n",
      "    User iprfbriv\t\n",
      "    HostName hazelhen.hww.de\n",
      "\n",
      "Host NRG\n",
      "    User federico\n",
      "    HostName 10.8.21.157\n",
      "    IdentityFile ~/.ssh/id_rsa_nas\n",
      "\n"
     ]
    }
   ],
   "source": [
    "cat ~/.ssh/config"
   ]
  },
  {
   "cell_type": "markdown",
   "metadata": {},
   "source": [
    "Despite at first glance this seems weird, it is extremely easy. \n",
    "Meanwhile I mentioned ~/.bashrc In short this is a file which is loaded at the start-up and contains all the standard default command of your shell.\n",
    "\n",
    "# Back-UP and File Copy\n",
    "The easy normal way to copy files is *secure copy: scp*"
   ]
  },
  {
   "cell_type": "code",
   "execution_count": 6,
   "metadata": {},
   "outputs": [
    {
     "name": "stdout",
     "output_type": "stream",
     "text": [
      "PROCAR                                        100% 4910KB  20.7MB/s   00:00    \n",
      "\n",
      "real\t0m0.301s\n",
      "user\t0m0.001s\n",
      "sys\t0m0.008s\n"
     ]
    }
   ],
   "source": [
    "time scp zeolite:~/Work/1_Hydrolysis/A_R33_Na_0NaOH_15W/MD_300K/PROCAR .\n",
    "rm PROCAR"
   ]
  },
  {
   "cell_type": "markdown",
   "metadata": {},
   "source": [
    "A better, smarter way that support backups is *rsync*"
   ]
  },
  {
   "cell_type": "code",
   "execution_count": 7,
   "metadata": {},
   "outputs": [
    {
     "name": "stdout",
     "output_type": "stream",
     "text": [
      "receiving incremental file list\n",
      "PROCAR\n",
      "\n",
      "sent 30 bytes  received 269,177 bytes  538,414.00 bytes/sec\n",
      "total size is 5,027,882  speedup is 18.68\n",
      "\n",
      "real\t0m0.133s\n",
      "user\t0m0.021s\n",
      "sys\t0m0.000s\n"
     ]
    }
   ],
   "source": [
    "time rsync -avzu zeolite:~/Work/1_Hydrolysis/A_R33_Na_0NaOH_15W/MD_300K/PROCAR .\n",
    "rm PROCAR"
   ]
  },
  {
   "cell_type": "markdown",
   "metadata": {},
   "source": [
    "rsync has many advantages. For example let's see what happens if you do not delete the files in terms of timing.\n"
   ]
  },
  {
   "cell_type": "code",
   "execution_count": 8,
   "metadata": {},
   "outputs": [
    {
     "name": "stdout",
     "output_type": "stream",
     "text": [
      "PROCAR                                        100% 4910KB  70.8MB/s   00:00    \n",
      "\n",
      "real\t0m0.075s\n",
      "user\t0m0.012s\n",
      "sys\t0m0.000s\n",
      "PROCAR                                        100% 4910KB  70.4MB/s   00:00    \n",
      "\n",
      "real\t0m0.078s\n",
      "user\t0m0.004s\n",
      "sys\t0m0.008s\n"
     ]
    }
   ],
   "source": [
    "time scp zeolite:~/Work/1_Hydrolysis/A_R33_Na_0NaOH_15W/MD_300K/PROCAR .\n",
    "time scp zeolite:~/Work/1_Hydrolysis/A_R33_Na_0NaOH_15W/MD_300K/PROCAR .\n"
   ]
  },
  {
   "cell_type": "code",
   "execution_count": 9,
   "metadata": {},
   "outputs": [
    {
     "name": "stdout",
     "output_type": "stream",
     "text": [
      "receiving incremental file list\n",
      "\n",
      "sent 11 bytes  received 51 bytes  124.00 bytes/sec\n",
      "total size is 5,027,882  speedup is 81,094.87\n",
      "\n",
      "real\t0m0.013s\n",
      "user\t0m0.007s\n",
      "sys\t0m0.000s\n",
      "receiving incremental file list\n",
      "\n",
      "sent 11 bytes  received 51 bytes  124.00 bytes/sec\n",
      "total size is 5,027,882  speedup is 81,094.87\n",
      "\n",
      "real\t0m0.016s\n",
      "user\t0m0.003s\n",
      "sys\t0m0.006s\n"
     ]
    }
   ],
   "source": [
    "time rsync -avzu zeolite:~/Work/1_Hydrolysis/A_R33_Na_0NaOH_15W/MD_300K/PROCAR .\n",
    "time rsync -avzu zeolite:~/Work/1_Hydrolysis/A_R33_Na_0NaOH_15W/MD_300K/PROCAR .\n",
    "rm PROCAR"
   ]
  },
  {
   "cell_type": "markdown",
   "metadata": {},
   "source": []
  }
 ],
 "metadata": {
  "kernelspec": {
   "display_name": "Bash",
   "language": "bash",
   "name": "bash"
  },
  "language_info": {
   "codemirror_mode": "shell",
   "file_extension": ".sh",
   "mimetype": "text/x-sh",
   "name": "bash"
  }
 },
 "nbformat": 4,
 "nbformat_minor": 2
}
